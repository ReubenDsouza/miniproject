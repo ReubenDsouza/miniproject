{
 "cells": [
  {
   "cell_type": "code",
   "execution_count": 14,
   "metadata": {
    "collapsed": false
   },
   "outputs": [
    {
     "name": "stdout",
     "output_type": "stream",
     "text": [
      "a\n",
      "b\n"
     ]
    }
   ],
   "source": [
    "print('a'+\"\\n\"+'b')"
   ]
  },
  {
   "cell_type": "code",
   "execution_count": 22,
   "metadata": {
    "collapsed": false
   },
   "outputs": [
    {
     "name": "stdout",
     "output_type": "stream",
     "text": [
      "20\n",
      "------------------------------------------\n",
      "|                                        |\n",
      "|                                        |\n",
      "|                                        |\n",
      "|                                        |\n",
      "|                                        |\n",
      "|                                        |\n",
      "|                                        |\n",
      "|                                        |\n",
      "|                                        |\n",
      "|                                        |\n",
      "|                    ##+                 |\n",
      "|                                        |\n",
      "|                                        |\n",
      "|                                        |\n",
      "|                                        |\n",
      "|                                        |\n",
      "|                                        |\n",
      "|                                        |\n",
      "|                                        |\n",
      "|                                        |\n",
      "|                                        |\n",
      "------------------------------------------"
     ]
    }
   ],
   "source": [
    "def Board(n):\n",
    "    n = size\n",
    "    for i in range(n+1):\n",
    "        print(\"-\"*2, end='')\n",
    "    print()\n",
    "    for i in range(int(n/2)):\n",
    "        print(\"|\"+\" \"*n*2+\"|\")\n",
    "    print(\"|\"+\" \"*n+\"##+\"+\" \"*int(n - 3)+\"|\")\n",
    "    for i in range(int(n/2)):\n",
    "        print(\"|\"+\" \"*n*2+\"|\")\n",
    "    for i in range(n+1):\n",
    "        print(\"-\"*2,end='')\n",
    "size = int(input())\n",
    "Board(size)\n"
   ]
  },
  {
   "cell_type": "code",
   "execution_count": null,
   "metadata": {
    "collapsed": true
   },
   "outputs": [],
   "source": [
    "n = int(input())\n",
    "for i in range(n+1):\n",
    "    print(\"-\"*2, end='')\n",
    "print()\n",
    "for i in range(n):\n",
    "    print(\"|\"+\" \"*n*2+\"|\")\n",
    "for i in range(n+1):\n",
    "    print(\"-\"*2,end='')"
   ]
  }
 ],
 "metadata": {
  "anaconda-cloud": {},
  "kernelspec": {
   "display_name": "Python 3",
   "language": "python",
   "name": "python3"
  },
  "language_info": {
   "codemirror_mode": {
    "name": "ipython",
    "version": 3
   },
   "file_extension": ".py",
   "mimetype": "text/x-python",
   "name": "python",
   "nbconvert_exporter": "python",
   "pygments_lexer": "ipython3",
   "version": "3.5.2"
  }
 },
 "nbformat": 4,
 "nbformat_minor": 1
}
